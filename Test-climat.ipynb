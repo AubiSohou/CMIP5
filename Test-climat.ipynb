{
 "cells": [
  {
   "cell_type": "code",
   "execution_count": 379,
   "metadata": {
    "colab": {
     "base_uri": "https://localhost:8080/"
    },
    "executionInfo": {
     "elapsed": 54241,
     "status": "ok",
     "timestamp": 1638495830129,
     "user": {
      "displayName": "Aubierge SOHOU",
      "photoUrl": "https://lh3.googleusercontent.com/a-/AOh14Gg7Cig_oc9kWwo1SepNoNTlvEh0Ob73Pbv8sJeqMoA=s64",
      "userId": "15209820810841804475"
     },
     "user_tz": 300
    },
    "id": "T8bu2-0O7TjQ",
    "outputId": "ef474134-096f-4e56-9e8c-f1823b0c9be3"
   },
   "outputs": [
    {
     "name": "stdout",
     "output_type": "stream",
     "text": [
      "Requirement already satisfied: esgf-pyclient in /usr/local/lib/python3.7/dist-packages (0.3.0)\n",
      "Requirement already satisfied: requests-cache in /usr/local/lib/python3.7/dist-packages (from esgf-pyclient) (0.5.0)\n",
      "Requirement already satisfied: webob in /usr/local/lib/python3.7/dist-packages (from esgf-pyclient) (1.8.7)\n",
      "Requirement already satisfied: myproxyclient in /usr/local/lib/python3.7/dist-packages (from esgf-pyclient) (2.1.0)\n",
      "Requirement already satisfied: defusedxml in /usr/local/lib/python3.7/dist-packages (from esgf-pyclient) (0.7.1)\n",
      "Requirement already satisfied: jinja2 in /usr/local/lib/python3.7/dist-packages (from esgf-pyclient) (2.11.3)\n",
      "Requirement already satisfied: requests in /usr/local/lib/python3.7/dist-packages (from esgf-pyclient) (2.23.0)\n",
      "Requirement already satisfied: MarkupSafe>=0.23 in /usr/local/lib/python3.7/dist-packages (from jinja2->esgf-pyclient) (2.0.1)\n",
      "Requirement already satisfied: pyOpenSSL in /usr/local/lib/python3.7/dist-packages (from myproxyclient->esgf-pyclient) (21.0.0)\n",
      "Requirement already satisfied: six in /usr/local/lib/python3.7/dist-packages (from myproxyclient->esgf-pyclient) (1.15.0)\n",
      "Requirement already satisfied: cryptography>=3.3 in /usr/local/lib/python3.7/dist-packages (from pyOpenSSL->myproxyclient->esgf-pyclient) (36.0.0)\n",
      "Requirement already satisfied: cffi>=1.12 in /usr/local/lib/python3.7/dist-packages (from cryptography>=3.3->pyOpenSSL->myproxyclient->esgf-pyclient) (1.15.0)\n",
      "Requirement already satisfied: pycparser in /usr/local/lib/python3.7/dist-packages (from cffi>=1.12->cryptography>=3.3->pyOpenSSL->myproxyclient->esgf-pyclient) (2.21)\n",
      "Requirement already satisfied: urllib3!=1.25.0,!=1.25.1,<1.26,>=1.21.1 in /usr/local/lib/python3.7/dist-packages (from requests->esgf-pyclient) (1.25.11)\n",
      "Requirement already satisfied: idna<3,>=2.5 in /usr/local/lib/python3.7/dist-packages (from requests->esgf-pyclient) (2.10)\n",
      "Requirement already satisfied: chardet<4,>=3.0.2 in /usr/local/lib/python3.7/dist-packages (from requests->esgf-pyclient) (3.0.4)\n",
      "Requirement already satisfied: certifi>=2017.4.17 in /usr/local/lib/python3.7/dist-packages (from requests->esgf-pyclient) (2021.10.8)\n",
      "Requirement already satisfied: pytest in /usr/local/lib/python3.7/dist-packages (3.6.4)\n",
      "Requirement already satisfied: six>=1.10.0 in /usr/local/lib/python3.7/dist-packages (from pytest) (1.15.0)\n",
      "Requirement already satisfied: atomicwrites>=1.0 in /usr/local/lib/python3.7/dist-packages (from pytest) (1.4.0)\n",
      "Requirement already satisfied: attrs>=17.4.0 in /usr/local/lib/python3.7/dist-packages (from pytest) (21.2.0)\n",
      "Requirement already satisfied: setuptools in /usr/local/lib/python3.7/dist-packages (from pytest) (57.4.0)\n",
      "Requirement already satisfied: pluggy<0.8,>=0.5 in /usr/local/lib/python3.7/dist-packages (from pytest) (0.7.1)\n",
      "Requirement already satisfied: more-itertools>=4.0.0 in /usr/local/lib/python3.7/dist-packages (from pytest) (8.12.0)\n",
      "Requirement already satisfied: py>=1.5.0 in /usr/local/lib/python3.7/dist-packages (from pytest) (1.11.0)\n",
      "Requirement already satisfied: flake8 in /usr/local/lib/python3.7/dist-packages (4.0.1)\n",
      "Requirement already satisfied: mccabe<0.7.0,>=0.6.0 in /usr/local/lib/python3.7/dist-packages (from flake8) (0.6.1)\n",
      "Requirement already satisfied: pycodestyle<2.9.0,>=2.8.0 in /usr/local/lib/python3.7/dist-packages (from flake8) (2.8.0)\n",
      "Requirement already satisfied: pyflakes<2.5.0,>=2.4.0 in /usr/local/lib/python3.7/dist-packages (from flake8) (2.4.0)\n",
      "Requirement already satisfied: importlib-metadata<4.3 in /usr/local/lib/python3.7/dist-packages (from flake8) (4.2.0)\n",
      "Requirement already satisfied: typing-extensions>=3.6.4 in /usr/local/lib/python3.7/dist-packages (from importlib-metadata<4.3->flake8) (3.10.0.2)\n",
      "Requirement already satisfied: zipp>=0.5 in /usr/local/lib/python3.7/dist-packages (from importlib-metadata<4.3->flake8) (3.6.0)\n",
      "Requirement already satisfied: sphinx in /usr/local/lib/python3.7/dist-packages (1.8.6)\n",
      "Requirement already satisfied: docutils<0.18,>=0.11 in /usr/local/lib/python3.7/dist-packages (from sphinx) (0.17.1)\n",
      "Requirement already satisfied: imagesize in /usr/local/lib/python3.7/dist-packages (from sphinx) (1.3.0)\n",
      "Requirement already satisfied: alabaster<0.8,>=0.7 in /usr/local/lib/python3.7/dist-packages (from sphinx) (0.7.12)\n",
      "Requirement already satisfied: Jinja2>=2.3 in /usr/local/lib/python3.7/dist-packages (from sphinx) (2.11.3)\n",
      "Requirement already satisfied: packaging in /usr/local/lib/python3.7/dist-packages (from sphinx) (21.3)\n",
      "Requirement already satisfied: Pygments>=2.0 in /usr/local/lib/python3.7/dist-packages (from sphinx) (2.6.1)\n",
      "Requirement already satisfied: six>=1.5 in /usr/local/lib/python3.7/dist-packages (from sphinx) (1.15.0)\n",
      "Requirement already satisfied: requests>=2.0.0 in /usr/local/lib/python3.7/dist-packages (from sphinx) (2.23.0)\n",
      "Requirement already satisfied: babel!=2.0,>=1.3 in /usr/local/lib/python3.7/dist-packages (from sphinx) (2.9.1)\n",
      "Requirement already satisfied: setuptools in /usr/local/lib/python3.7/dist-packages (from sphinx) (57.4.0)\n",
      "Requirement already satisfied: sphinxcontrib-websupport in /usr/local/lib/python3.7/dist-packages (from sphinx) (1.2.4)\n",
      "Requirement already satisfied: snowballstemmer>=1.1 in /usr/local/lib/python3.7/dist-packages (from sphinx) (2.2.0)\n",
      "Requirement already satisfied: pytz>=2015.7 in /usr/local/lib/python3.7/dist-packages (from babel!=2.0,>=1.3->sphinx) (2018.9)\n",
      "Requirement already satisfied: MarkupSafe>=0.23 in /usr/local/lib/python3.7/dist-packages (from Jinja2>=2.3->sphinx) (2.0.1)\n",
      "Requirement already satisfied: chardet<4,>=3.0.2 in /usr/local/lib/python3.7/dist-packages (from requests>=2.0.0->sphinx) (3.0.4)\n",
      "Requirement already satisfied: certifi>=2017.4.17 in /usr/local/lib/python3.7/dist-packages (from requests>=2.0.0->sphinx) (2021.10.8)\n",
      "Requirement already satisfied: idna<3,>=2.5 in /usr/local/lib/python3.7/dist-packages (from requests>=2.0.0->sphinx) (2.10)\n",
      "Requirement already satisfied: urllib3!=1.25.0,!=1.25.1,<1.26,>=1.21.1 in /usr/local/lib/python3.7/dist-packages (from requests>=2.0.0->sphinx) (1.25.11)\n",
      "Requirement already satisfied: pyparsing!=3.0.5,>=2.0.2 in /usr/local/lib/python3.7/dist-packages (from packaging->sphinx) (3.0.6)\n",
      "Requirement already satisfied: sphinxcontrib-serializinghtml in /usr/local/lib/python3.7/dist-packages (from sphinxcontrib-websupport->sphinx) (1.1.5)\n",
      "Requirement already satisfied: nbsphinx in /usr/local/lib/python3.7/dist-packages (0.8.7)\n",
      "Requirement already satisfied: docutils in /usr/local/lib/python3.7/dist-packages (from nbsphinx) (0.17.1)\n",
      "Requirement already satisfied: traitlets in /usr/local/lib/python3.7/dist-packages (from nbsphinx) (5.1.1)\n",
      "Requirement already satisfied: sphinx>=1.8 in /usr/local/lib/python3.7/dist-packages (from nbsphinx) (1.8.6)\n",
      "Requirement already satisfied: jinja2 in /usr/local/lib/python3.7/dist-packages (from nbsphinx) (2.11.3)\n",
      "Requirement already satisfied: nbformat in /usr/local/lib/python3.7/dist-packages (from nbsphinx) (5.1.3)\n",
      "Requirement already satisfied: nbconvert!=5.4 in /usr/local/lib/python3.7/dist-packages (from nbsphinx) (5.6.1)\n",
      "Requirement already satisfied: entrypoints>=0.2.2 in /usr/local/lib/python3.7/dist-packages (from nbconvert!=5.4->nbsphinx) (0.3)\n",
      "Requirement already satisfied: jupyter-core in /usr/local/lib/python3.7/dist-packages (from nbconvert!=5.4->nbsphinx) (4.9.1)\n",
      "Requirement already satisfied: bleach in /usr/local/lib/python3.7/dist-packages (from nbconvert!=5.4->nbsphinx) (4.1.0)\n",
      "Requirement already satisfied: pygments in /usr/local/lib/python3.7/dist-packages (from nbconvert!=5.4->nbsphinx) (2.6.1)\n",
      "Requirement already satisfied: defusedxml in /usr/local/lib/python3.7/dist-packages (from nbconvert!=5.4->nbsphinx) (0.7.1)\n",
      "Requirement already satisfied: testpath in /usr/local/lib/python3.7/dist-packages (from nbconvert!=5.4->nbsphinx) (0.5.0)\n",
      "Requirement already satisfied: pandocfilters>=1.4.1 in /usr/local/lib/python3.7/dist-packages (from nbconvert!=5.4->nbsphinx) (1.5.0)\n",
      "Requirement already satisfied: mistune<2,>=0.8.1 in /usr/local/lib/python3.7/dist-packages (from nbconvert!=5.4->nbsphinx) (0.8.4)\n",
      "Requirement already satisfied: MarkupSafe>=0.23 in /usr/local/lib/python3.7/dist-packages (from jinja2->nbsphinx) (2.0.1)\n",
      "Requirement already satisfied: jsonschema!=2.5.0,>=2.4 in /usr/local/lib/python3.7/dist-packages (from nbformat->nbsphinx) (2.6.0)\n",
      "Requirement already satisfied: ipython-genutils in /usr/local/lib/python3.7/dist-packages (from nbformat->nbsphinx) (0.2.0)\n",
      "Requirement already satisfied: snowballstemmer>=1.1 in /usr/local/lib/python3.7/dist-packages (from sphinx>=1.8->nbsphinx) (2.2.0)\n",
      "Requirement already satisfied: babel!=2.0,>=1.3 in /usr/local/lib/python3.7/dist-packages (from sphinx>=1.8->nbsphinx) (2.9.1)\n",
      "Requirement already satisfied: imagesize in /usr/local/lib/python3.7/dist-packages (from sphinx>=1.8->nbsphinx) (1.3.0)\n",
      "Requirement already satisfied: six>=1.5 in /usr/local/lib/python3.7/dist-packages (from sphinx>=1.8->nbsphinx) (1.15.0)\n",
      "Requirement already satisfied: sphinxcontrib-websupport in /usr/local/lib/python3.7/dist-packages (from sphinx>=1.8->nbsphinx) (1.2.4)\n",
      "Requirement already satisfied: packaging in /usr/local/lib/python3.7/dist-packages (from sphinx>=1.8->nbsphinx) (21.3)\n",
      "Requirement already satisfied: alabaster<0.8,>=0.7 in /usr/local/lib/python3.7/dist-packages (from sphinx>=1.8->nbsphinx) (0.7.12)\n",
      "Requirement already satisfied: setuptools in /usr/local/lib/python3.7/dist-packages (from sphinx>=1.8->nbsphinx) (57.4.0)\n",
      "Requirement already satisfied: requests>=2.0.0 in /usr/local/lib/python3.7/dist-packages (from sphinx>=1.8->nbsphinx) (2.23.0)\n",
      "Requirement already satisfied: pytz>=2015.7 in /usr/local/lib/python3.7/dist-packages (from babel!=2.0,>=1.3->sphinx>=1.8->nbsphinx) (2018.9)\n",
      "Requirement already satisfied: certifi>=2017.4.17 in /usr/local/lib/python3.7/dist-packages (from requests>=2.0.0->sphinx>=1.8->nbsphinx) (2021.10.8)\n",
      "Requirement already satisfied: idna<3,>=2.5 in /usr/local/lib/python3.7/dist-packages (from requests>=2.0.0->sphinx>=1.8->nbsphinx) (2.10)\n",
      "Requirement already satisfied: chardet<4,>=3.0.2 in /usr/local/lib/python3.7/dist-packages (from requests>=2.0.0->sphinx>=1.8->nbsphinx) (3.0.4)\n",
      "Requirement already satisfied: urllib3!=1.25.0,!=1.25.1,<1.26,>=1.21.1 in /usr/local/lib/python3.7/dist-packages (from requests>=2.0.0->sphinx>=1.8->nbsphinx) (1.25.11)\n",
      "Requirement already satisfied: webencodings in /usr/local/lib/python3.7/dist-packages (from bleach->nbconvert!=5.4->nbsphinx) (0.5.1)\n",
      "Requirement already satisfied: pyparsing!=3.0.5,>=2.0.2 in /usr/local/lib/python3.7/dist-packages (from packaging->sphinx>=1.8->nbsphinx) (3.0.6)\n",
      "Requirement already satisfied: sphinxcontrib-serializinghtml in /usr/local/lib/python3.7/dist-packages (from sphinxcontrib-websupport->sphinx>=1.8->nbsphinx) (1.1.5)\n",
      "Requirement already satisfied: pandoc in /usr/local/lib/python3.7/dist-packages (1.1.0)\n",
      "Requirement already satisfied: plumbum in /usr/local/lib/python3.7/dist-packages (from pandoc) (1.7.1)\n",
      "Requirement already satisfied: ply in /usr/local/lib/python3.7/dist-packages (from pandoc) (3.11)\n",
      "Requirement already satisfied: ipykernel in /usr/local/lib/python3.7/dist-packages (4.10.1)\n",
      "Requirement already satisfied: ipython>=4.0.0 in /usr/local/lib/python3.7/dist-packages (from ipykernel) (5.5.0)\n",
      "Requirement already satisfied: jupyter-client in /usr/local/lib/python3.7/dist-packages (from ipykernel) (5.3.5)\n",
      "Requirement already satisfied: traitlets>=4.1.0 in /usr/local/lib/python3.7/dist-packages (from ipykernel) (5.1.1)\n",
      "Requirement already satisfied: tornado>=4.0 in /usr/local/lib/python3.7/dist-packages (from ipykernel) (5.1.1)\n",
      "Requirement already satisfied: pexpect in /usr/local/lib/python3.7/dist-packages (from ipython>=4.0.0->ipykernel) (4.8.0)\n",
      "Requirement already satisfied: simplegeneric>0.8 in /usr/local/lib/python3.7/dist-packages (from ipython>=4.0.0->ipykernel) (0.8.1)\n",
      "Requirement already satisfied: pygments in /usr/local/lib/python3.7/dist-packages (from ipython>=4.0.0->ipykernel) (2.6.1)\n",
      "Requirement already satisfied: decorator in /usr/local/lib/python3.7/dist-packages (from ipython>=4.0.0->ipykernel) (4.4.2)\n",
      "Requirement already satisfied: prompt-toolkit<2.0.0,>=1.0.4 in /usr/local/lib/python3.7/dist-packages (from ipython>=4.0.0->ipykernel) (1.0.18)\n",
      "Requirement already satisfied: setuptools>=18.5 in /usr/local/lib/python3.7/dist-packages (from ipython>=4.0.0->ipykernel) (57.4.0)\n",
      "Requirement already satisfied: pickleshare in /usr/local/lib/python3.7/dist-packages (from ipython>=4.0.0->ipykernel) (0.7.5)\n",
      "Requirement already satisfied: wcwidth in /usr/local/lib/python3.7/dist-packages (from prompt-toolkit<2.0.0,>=1.0.4->ipython>=4.0.0->ipykernel) (0.2.5)\n",
      "Requirement already satisfied: six>=1.9.0 in /usr/local/lib/python3.7/dist-packages (from prompt-toolkit<2.0.0,>=1.0.4->ipython>=4.0.0->ipykernel) (1.15.0)\n",
      "Requirement already satisfied: jupyter-core>=4.6.0 in /usr/local/lib/python3.7/dist-packages (from jupyter-client->ipykernel) (4.9.1)\n",
      "Requirement already satisfied: pyzmq>=13 in /usr/local/lib/python3.7/dist-packages (from jupyter-client->ipykernel) (22.3.0)\n",
      "Requirement already satisfied: python-dateutil>=2.1 in /usr/local/lib/python3.7/dist-packages (from jupyter-client->ipykernel) (2.8.2)\n",
      "Requirement already satisfied: ptyprocess>=0.5 in /usr/local/lib/python3.7/dist-packages (from pexpect->ipython>=4.0.0->ipykernel) (0.7.0)\n",
      "Requirement already satisfied: nbconvert in /usr/local/lib/python3.7/dist-packages (5.6.1)\n",
      "Requirement already satisfied: traitlets>=4.2 in /usr/local/lib/python3.7/dist-packages (from nbconvert) (5.1.1)\n",
      "Requirement already satisfied: pandocfilters>=1.4.1 in /usr/local/lib/python3.7/dist-packages (from nbconvert) (1.5.0)\n",
      "Requirement already satisfied: nbformat>=4.4 in /usr/local/lib/python3.7/dist-packages (from nbconvert) (5.1.3)\n",
      "Requirement already satisfied: bleach in /usr/local/lib/python3.7/dist-packages (from nbconvert) (4.1.0)\n",
      "Requirement already satisfied: defusedxml in /usr/local/lib/python3.7/dist-packages (from nbconvert) (0.7.1)\n",
      "Requirement already satisfied: mistune<2,>=0.8.1 in /usr/local/lib/python3.7/dist-packages (from nbconvert) (0.8.4)\n",
      "Requirement already satisfied: pygments in /usr/local/lib/python3.7/dist-packages (from nbconvert) (2.6.1)\n",
      "Requirement already satisfied: jupyter-core in /usr/local/lib/python3.7/dist-packages (from nbconvert) (4.9.1)\n",
      "Requirement already satisfied: entrypoints>=0.2.2 in /usr/local/lib/python3.7/dist-packages (from nbconvert) (0.3)\n",
      "Requirement already satisfied: jinja2>=2.4 in /usr/local/lib/python3.7/dist-packages (from nbconvert) (2.11.3)\n",
      "Requirement already satisfied: testpath in /usr/local/lib/python3.7/dist-packages (from nbconvert) (0.5.0)\n",
      "Requirement already satisfied: MarkupSafe>=0.23 in /usr/local/lib/python3.7/dist-packages (from jinja2>=2.4->nbconvert) (2.0.1)\n",
      "Requirement already satisfied: jsonschema!=2.5.0,>=2.4 in /usr/local/lib/python3.7/dist-packages (from nbformat>=4.4->nbconvert) (2.6.0)\n",
      "Requirement already satisfied: ipython-genutils in /usr/local/lib/python3.7/dist-packages (from nbformat>=4.4->nbconvert) (0.2.0)\n",
      "Requirement already satisfied: packaging in /usr/local/lib/python3.7/dist-packages (from bleach->nbconvert) (21.3)\n",
      "Requirement already satisfied: six>=1.9.0 in /usr/local/lib/python3.7/dist-packages (from bleach->nbconvert) (1.15.0)\n",
      "Requirement already satisfied: webencodings in /usr/local/lib/python3.7/dist-packages (from bleach->nbconvert) (0.5.1)\n",
      "Requirement already satisfied: pyparsing!=3.0.5,>=2.0.2 in /usr/local/lib/python3.7/dist-packages (from packaging->bleach->nbconvert) (3.0.6)\n",
      "Requirement already satisfied: defusedxml in /usr/local/lib/python3.7/dist-packages (0.7.1)\n",
      "Requirement already satisfied: jinja2 in /usr/local/lib/python3.7/dist-packages (2.11.3)\n",
      "Requirement already satisfied: MarkupSafe>=0.23 in /usr/local/lib/python3.7/dist-packages (from jinja2) (2.0.1)\n",
      "Requirement already satisfied: requests in /usr/local/lib/python3.7/dist-packages (2.23.0)\n",
      "Requirement already satisfied: chardet<4,>=3.0.2 in /usr/local/lib/python3.7/dist-packages (from requests) (3.0.4)\n",
      "Requirement already satisfied: certifi>=2017.4.17 in /usr/local/lib/python3.7/dist-packages (from requests) (2021.10.8)\n",
      "Requirement already satisfied: urllib3!=1.25.0,!=1.25.1,<1.26,>=1.21.1 in /usr/local/lib/python3.7/dist-packages (from requests) (1.25.11)\n",
      "Requirement already satisfied: idna<3,>=2.5 in /usr/local/lib/python3.7/dist-packages (from requests) (2.10)\n",
      "Requirement already satisfied: webob in /usr/local/lib/python3.7/dist-packages (1.8.7)\n",
      "Requirement already satisfied: myproxyclient in /usr/local/lib/python3.7/dist-packages (2.1.0)\n",
      "Requirement already satisfied: six in /usr/local/lib/python3.7/dist-packages (from myproxyclient) (1.15.0)\n",
      "Requirement already satisfied: pyOpenSSL in /usr/local/lib/python3.7/dist-packages (from myproxyclient) (21.0.0)\n",
      "Requirement already satisfied: cryptography>=3.3 in /usr/local/lib/python3.7/dist-packages (from pyOpenSSL->myproxyclient) (36.0.0)\n",
      "Requirement already satisfied: cffi>=1.12 in /usr/local/lib/python3.7/dist-packages (from cryptography>=3.3->pyOpenSSL->myproxyclient) (1.15.0)\n",
      "Requirement already satisfied: pycparser in /usr/local/lib/python3.7/dist-packages (from cffi>=1.12->cryptography>=3.3->pyOpenSSL->myproxyclient) (2.21)\n",
      "Requirement already satisfied: nbval in /usr/local/lib/python3.7/dist-packages (0.9.6)\n",
      "Requirement already satisfied: ipykernel in /usr/local/lib/python3.7/dist-packages (from nbval) (4.10.1)\n",
      "Requirement already satisfied: jupyter-client in /usr/local/lib/python3.7/dist-packages (from nbval) (5.3.5)\n",
      "Requirement already satisfied: six in /usr/local/lib/python3.7/dist-packages (from nbval) (1.15.0)\n",
      "Requirement already satisfied: coverage in /usr/local/lib/python3.7/dist-packages (from nbval) (3.7.1)\n",
      "Requirement already satisfied: pytest>=2.8 in /usr/local/lib/python3.7/dist-packages (from nbval) (3.6.4)\n",
      "Requirement already satisfied: nbformat in /usr/local/lib/python3.7/dist-packages (from nbval) (5.1.3)\n",
      "Requirement already satisfied: more-itertools>=4.0.0 in /usr/local/lib/python3.7/dist-packages (from pytest>=2.8->nbval) (8.12.0)\n",
      "Requirement already satisfied: py>=1.5.0 in /usr/local/lib/python3.7/dist-packages (from pytest>=2.8->nbval) (1.11.0)\n",
      "Requirement already satisfied: attrs>=17.4.0 in /usr/local/lib/python3.7/dist-packages (from pytest>=2.8->nbval) (21.2.0)\n",
      "Requirement already satisfied: pluggy<0.8,>=0.5 in /usr/local/lib/python3.7/dist-packages (from pytest>=2.8->nbval) (0.7.1)\n",
      "Requirement already satisfied: atomicwrites>=1.0 in /usr/local/lib/python3.7/dist-packages (from pytest>=2.8->nbval) (1.4.0)\n",
      "Requirement already satisfied: setuptools in /usr/local/lib/python3.7/dist-packages (from pytest>=2.8->nbval) (57.4.0)\n",
      "Requirement already satisfied: tornado>=4.0 in /usr/local/lib/python3.7/dist-packages (from ipykernel->nbval) (5.1.1)\n",
      "Requirement already satisfied: ipython>=4.0.0 in /usr/local/lib/python3.7/dist-packages (from ipykernel->nbval) (5.5.0)\n",
      "Requirement already satisfied: traitlets>=4.1.0 in /usr/local/lib/python3.7/dist-packages (from ipykernel->nbval) (5.1.1)\n",
      "Requirement already satisfied: pickleshare in /usr/local/lib/python3.7/dist-packages (from ipython>=4.0.0->ipykernel->nbval) (0.7.5)\n",
      "Requirement already satisfied: pexpect in /usr/local/lib/python3.7/dist-packages (from ipython>=4.0.0->ipykernel->nbval) (4.8.0)\n",
      "Requirement already satisfied: decorator in /usr/local/lib/python3.7/dist-packages (from ipython>=4.0.0->ipykernel->nbval) (4.4.2)\n",
      "Requirement already satisfied: simplegeneric>0.8 in /usr/local/lib/python3.7/dist-packages (from ipython>=4.0.0->ipykernel->nbval) (0.8.1)\n",
      "Requirement already satisfied: pygments in /usr/local/lib/python3.7/dist-packages (from ipython>=4.0.0->ipykernel->nbval) (2.6.1)\n",
      "Requirement already satisfied: prompt-toolkit<2.0.0,>=1.0.4 in /usr/local/lib/python3.7/dist-packages (from ipython>=4.0.0->ipykernel->nbval) (1.0.18)\n",
      "Requirement already satisfied: wcwidth in /usr/local/lib/python3.7/dist-packages (from prompt-toolkit<2.0.0,>=1.0.4->ipython>=4.0.0->ipykernel->nbval) (0.2.5)\n",
      "Requirement already satisfied: jupyter-core>=4.6.0 in /usr/local/lib/python3.7/dist-packages (from jupyter-client->nbval) (4.9.1)\n",
      "Requirement already satisfied: python-dateutil>=2.1 in /usr/local/lib/python3.7/dist-packages (from jupyter-client->nbval) (2.8.2)\n",
      "Requirement already satisfied: pyzmq>=13 in /usr/local/lib/python3.7/dist-packages (from jupyter-client->nbval) (22.3.0)\n",
      "Requirement already satisfied: jsonschema!=2.5.0,>=2.4 in /usr/local/lib/python3.7/dist-packages (from nbformat->nbval) (2.6.0)\n",
      "Requirement already satisfied: ipython-genutils in /usr/local/lib/python3.7/dist-packages (from nbformat->nbval) (0.2.0)\n",
      "Requirement already satisfied: ptyprocess>=0.5 in /usr/local/lib/python3.7/dist-packages (from pexpect->ipython>=4.0.0->ipykernel->nbval) (0.7.0)\n",
      "Requirement already satisfied: requests_cache==0.5 in /usr/local/lib/python3.7/dist-packages (0.5.0)\n",
      "Requirement already satisfied: requests>=1.1.0 in /usr/local/lib/python3.7/dist-packages (from requests_cache==0.5) (2.23.0)\n",
      "Requirement already satisfied: urllib3!=1.25.0,!=1.25.1,<1.26,>=1.21.1 in /usr/local/lib/python3.7/dist-packages (from requests>=1.1.0->requests_cache==0.5) (1.25.11)\n",
      "Requirement already satisfied: idna<3,>=2.5 in /usr/local/lib/python3.7/dist-packages (from requests>=1.1.0->requests_cache==0.5) (2.10)\n",
      "Requirement already satisfied: chardet<4,>=3.0.2 in /usr/local/lib/python3.7/dist-packages (from requests>=1.1.0->requests_cache==0.5) (3.0.4)\n",
      "Requirement already satisfied: certifi>=2017.4.17 in /usr/local/lib/python3.7/dist-packages (from requests>=1.1.0->requests_cache==0.5) (2021.10.8)\n",
      "Requirement already satisfied: xarray in /usr/local/lib/python3.7/dist-packages (0.18.2)\n",
      "Requirement already satisfied: setuptools>=40.4 in /usr/local/lib/python3.7/dist-packages (from xarray) (57.4.0)\n",
      "Requirement already satisfied: pandas>=1.0 in /usr/local/lib/python3.7/dist-packages (from xarray) (1.1.5)\n",
      "Requirement already satisfied: numpy>=1.17 in /usr/local/lib/python3.7/dist-packages (from xarray) (1.19.5)\n",
      "Requirement already satisfied: pytz>=2017.2 in /usr/local/lib/python3.7/dist-packages (from pandas>=1.0->xarray) (2018.9)\n",
      "Requirement already satisfied: python-dateutil>=2.7.3 in /usr/local/lib/python3.7/dist-packages (from pandas>=1.0->xarray) (2.8.2)\n",
      "Requirement already satisfied: six>=1.5 in /usr/local/lib/python3.7/dist-packages (from python-dateutil>=2.7.3->pandas>=1.0->xarray) (1.15.0)\n"
     ]
    }
   ],
   "source": [
    "!pip install esgf-pyclient --progress-bar off\n",
    "\n",
    "!pip install pytest --progress-bar off\n",
    " \n",
    "!pip install flake8 --progress-bar off\n",
    " \n",
    "!pip install sphinx --progress-bar off\n",
    " \n",
    "!pip install nbsphinx --progress-bar off\n",
    " \n",
    "!pip install pandoc --progress-bar off\n",
    " \n",
    "!pip install ipykernel --progress-bar off\n",
    " \n",
    "!pip install nbconvert --progress-bar off\n",
    " \n",
    "!pip install defusedxml --progress-bar off\n",
    " \n",
    "!pip install jinja2 --progress-bar off\n",
    " \n",
    "!pip install requests --progress-bar off\n",
    " \n",
    "!pip install webob --progress-bar off\n",
    " \n",
    "!pip install myproxyclient --progress-bar off\n",
    " \n",
    "!pip install nbval --progress-bar off\n",
    "\n",
    "!pip install requests_cache==0.5 --progress-bar off\n",
    "\n",
    "!pip install xarray --progress-bar off"
   ]
  },
  {
   "cell_type": "code",
   "execution_count": 380,
   "metadata": {
    "executionInfo": {
     "elapsed": 7,
     "status": "ok",
     "timestamp": 1638495830130,
     "user": {
      "displayName": "Aubierge SOHOU",
      "photoUrl": "https://lh3.googleusercontent.com/a-/AOh14Gg7Cig_oc9kWwo1SepNoNTlvEh0Ob73Pbv8sJeqMoA=s64",
      "userId": "15209820810841804475"
     },
     "user_tz": 300
    },
    "id": "EpnybXRU60R1"
   },
   "outputs": [],
   "source": [
    "from pyesgf.search import SearchConnection\n",
    "import os\n",
    "import pandas as pd\n",
    "import requests\n",
    "from tqdm import tqdm"
   ]
  },
  {
   "cell_type": "code",
   "execution_count": 381,
   "metadata": {
    "executionInfo": {
     "elapsed": 7,
     "status": "ok",
     "timestamp": 1638495830131,
     "user": {
      "displayName": "Aubierge SOHOU",
      "photoUrl": "https://lh3.googleusercontent.com/a-/AOh14Gg7Cig_oc9kWwo1SepNoNTlvEh0Ob73Pbv8sJeqMoA=s64",
      "userId": "15209820810841804475"
     },
     "user_tz": 300
    },
    "id": "b1pgd4eFjHYs"
   },
   "outputs": [],
   "source": [
    "from pyesgf.search import SearchConnection\n",
    "import os\n",
    "import pandas as pd\n",
    "import requests\n",
    "from tqdm import tqdm\n",
    "\n",
    "import datetime as dt\n",
    "import numpy as np\n",
    "import pandas as pd\n",
    "import re\n",
    "from matplotlib import pyplot as plt\n",
    "from netCDF4 import Dataset, date2index, num2date, date2num\n",
    "import xarray as xr\n",
    "\n",
    "from shapely.geometry import Point\n",
    "from shapely.geometry.polygon import Polygon\n",
    "from netCDF4 import Dataset, date2index, num2date, date2num"
   ]
  },
  {
   "cell_type": "code",
   "execution_count": 383,
   "metadata": {
    "colab": {
     "base_uri": "https://localhost:8080/"
    },
    "executionInfo": {
     "elapsed": 2991,
     "status": "ok",
     "timestamp": 1638495928012,
     "user": {
      "displayName": "Aubierge SOHOU",
      "photoUrl": "https://lh3.googleusercontent.com/a-/AOh14Gg7Cig_oc9kWwo1SepNoNTlvEh0Ob73Pbv8sJeqMoA=s64",
      "userId": "15209820810841804475"
     },
     "user_tz": 300
    },
    "id": "_jZeQTlz7pH5",
    "outputId": "fa6edf55-78be-464b-eb4b-bdaade39f013"
   },
   "outputs": [
    {
     "name": "stdout",
     "output_type": "stream",
     "text": [
      "len(results) 1\n",
      "variables ['huss', 'pr', 'psl', 'sfcWind', 'ta', 'tas', 'tasmax', 'tasmin', 'ua', 'va', 'zg']\n"
     ]
    }
   ],
   "source": [
    "conn = SearchConnection('https://esgf-data.dkrz.de/esg-search', distrib=True)\n",
    "query = conn.new_context(\n",
    "    latest=True,\n",
    "    project='CMIP5',\n",
    "    model='HadCM3',\n",
    "    experiment='rcp45',\n",
    "    variable='pr,tasmax,tasmin',\n",
    "    time_frequency=\"day\",\n",
    "    realm='atmos',\n",
    "    ensemble='r1i1p1',\n",
    "    data_node='esgf-data1.ceda.ac.uk')\n",
    "results = query.search()\n",
    "\n",
    "print('len(results)', len(results))\n",
    "print('variables', results[0].json['variable'])\n"
   ]
  },
  {
   "cell_type": "code",
   "execution_count": 384,
   "metadata": {
    "colab": {
     "base_uri": "https://localhost:8080/"
    },
    "executionInfo": {
     "elapsed": 9760,
     "status": "ok",
     "timestamp": 1638495945278,
     "user": {
      "displayName": "Aubierge SOHOU",
      "photoUrl": "https://lh3.googleusercontent.com/a-/AOh14Gg7Cig_oc9kWwo1SepNoNTlvEh0Ob73Pbv8sJeqMoA=s64",
      "userId": "15209820810841804475"
     },
     "user_tz": 300
    },
    "id": "Pu22NmbY7wRr",
    "outputId": "7bf47b15-2566-433f-ff83-375d6b0e7628"
   },
   "outputs": [
    {
     "name": "stdout",
     "output_type": "stream",
     "text": [
      "len(hit) 22\n",
      "len(allfiles) 22\n"
     ]
    }
   ],
   "source": [
    "hit = results[0].file_context().search()\n",
    "print('len(hit)', len(hit))\n",
    "\n",
    "allfiles = map(lambda f : {'filename': f.filename, 'url': f.download_url}, hit)\n",
    "allfiles = list(allfiles)\n",
    "print('len(allfiles)', len(allfiles))\n"
   ]
  },
  {
   "cell_type": "code",
   "execution_count": 385,
   "metadata": {
    "colab": {
     "base_uri": "https://localhost:8080/",
     "height": 238
    },
    "executionInfo": {
     "elapsed": 422,
     "status": "ok",
     "timestamp": 1638495948146,
     "user": {
      "displayName": "Aubierge SOHOU",
      "photoUrl": "https://lh3.googleusercontent.com/a-/AOh14Gg7Cig_oc9kWwo1SepNoNTlvEh0Ob73Pbv8sJeqMoA=s64",
      "userId": "15209820810841804475"
     },
     "user_tz": 300
    },
    "id": "ZUGrEuhfGg3e",
    "outputId": "537c08c5-691a-407c-b92c-71fb8feaf1d7"
   },
   "outputs": [
    {
     "data": {
      "text/html": [
       "<div>\n",
       "<style scoped>\n",
       "    .dataframe tbody tr th:only-of-type {\n",
       "        vertical-align: middle;\n",
       "    }\n",
       "\n",
       "    .dataframe tbody tr th {\n",
       "        vertical-align: top;\n",
       "    }\n",
       "\n",
       "    .dataframe thead th {\n",
       "        text-align: right;\n",
       "    }\n",
       "</style>\n",
       "<table border=\"1\" class=\"dataframe\">\n",
       "  <thead>\n",
       "    <tr style=\"text-align: right;\">\n",
       "      <th></th>\n",
       "      <th>filename</th>\n",
       "      <th>url</th>\n",
       "    </tr>\n",
       "  </thead>\n",
       "  <tbody>\n",
       "    <tr>\n",
       "      <th>0</th>\n",
       "      <td>tasmin_day_HadCM3_rcp45_r1i1p1_20060101-203012...</td>\n",
       "      <td>http://esgf-data1.ceda.ac.uk/thredds/fileServe...</td>\n",
       "    </tr>\n",
       "    <tr>\n",
       "      <th>1</th>\n",
       "      <td>tasmin_day_HadCM3_rcp45_r1i1p1_20310101-203512...</td>\n",
       "      <td>http://esgf-data1.ceda.ac.uk/thredds/fileServe...</td>\n",
       "    </tr>\n",
       "    <tr>\n",
       "      <th>2</th>\n",
       "      <td>tasmax_day_HadCM3_rcp45_r1i1p1_20060101-203012...</td>\n",
       "      <td>http://esgf-data1.ceda.ac.uk/thredds/fileServe...</td>\n",
       "    </tr>\n",
       "    <tr>\n",
       "      <th>3</th>\n",
       "      <td>tasmax_day_HadCM3_rcp45_r1i1p1_20310101-203512...</td>\n",
       "      <td>http://esgf-data1.ceda.ac.uk/thredds/fileServe...</td>\n",
       "    </tr>\n",
       "    <tr>\n",
       "      <th>4</th>\n",
       "      <td>pr_day_HadCM3_rcp45_r1i1p1_20060101-20301230.nc</td>\n",
       "      <td>http://esgf-data1.ceda.ac.uk/thredds/fileServe...</td>\n",
       "    </tr>\n",
       "    <tr>\n",
       "      <th>5</th>\n",
       "      <td>pr_day_HadCM3_rcp45_r1i1p1_20310101-20351230.nc</td>\n",
       "      <td>http://esgf-data1.ceda.ac.uk/thredds/fileServe...</td>\n",
       "    </tr>\n",
       "  </tbody>\n",
       "</table>\n",
       "</div>"
      ],
      "text/plain": [
       "                                            filename                                                url\n",
       "0  tasmin_day_HadCM3_rcp45_r1i1p1_20060101-203012...  http://esgf-data1.ceda.ac.uk/thredds/fileServe...\n",
       "1  tasmin_day_HadCM3_rcp45_r1i1p1_20310101-203512...  http://esgf-data1.ceda.ac.uk/thredds/fileServe...\n",
       "2  tasmax_day_HadCM3_rcp45_r1i1p1_20060101-203012...  http://esgf-data1.ceda.ac.uk/thredds/fileServe...\n",
       "3  tasmax_day_HadCM3_rcp45_r1i1p1_20310101-203512...  http://esgf-data1.ceda.ac.uk/thredds/fileServe...\n",
       "4    pr_day_HadCM3_rcp45_r1i1p1_20060101-20301230.nc  http://esgf-data1.ceda.ac.uk/thredds/fileServe...\n",
       "5    pr_day_HadCM3_rcp45_r1i1p1_20310101-20351230.nc  http://esgf-data1.ceda.ac.uk/thredds/fileServe..."
      ]
     },
     "execution_count": 385,
     "metadata": {},
     "output_type": "execute_result"
    }
   ],
   "source": [
    "files = []\n",
    "for variable in ['tasmin', 'tasmax', 'pr']:\n",
    "  result = list(filter(lambda x: variable in x['filename'], allfiles))\n",
    "  files.extend(result)\n",
    "\n",
    "files = pd.DataFrame.from_dict(files)\n",
    "files"
   ]
  },
  {
   "cell_type": "code",
   "execution_count": 386,
   "metadata": {
    "colab": {
     "base_uri": "https://localhost:8080/",
     "height": 238
    },
    "executionInfo": {
     "elapsed": 269,
     "status": "ok",
     "timestamp": 1638495955210,
     "user": {
      "displayName": "Aubierge SOHOU",
      "photoUrl": "https://lh3.googleusercontent.com/a-/AOh14Gg7Cig_oc9kWwo1SepNoNTlvEh0Ob73Pbv8sJeqMoA=s64",
      "userId": "15209820810841804475"
     },
     "user_tz": 300
    },
    "id": "A1Rbqjm68gyu",
    "outputId": "94b250ac-5fb6-4855-c51f-f2562ca85cee"
   },
   "outputs": [
    {
     "data": {
      "text/html": [
       "<div>\n",
       "<style scoped>\n",
       "    .dataframe tbody tr th:only-of-type {\n",
       "        vertical-align: middle;\n",
       "    }\n",
       "\n",
       "    .dataframe tbody tr th {\n",
       "        vertical-align: top;\n",
       "    }\n",
       "\n",
       "    .dataframe thead th {\n",
       "        text-align: right;\n",
       "    }\n",
       "</style>\n",
       "<table border=\"1\" class=\"dataframe\">\n",
       "  <thead>\n",
       "    <tr style=\"text-align: right;\">\n",
       "      <th></th>\n",
       "      <th>filename</th>\n",
       "      <th>url</th>\n",
       "    </tr>\n",
       "  </thead>\n",
       "  <tbody>\n",
       "    <tr>\n",
       "      <th>0</th>\n",
       "      <td>tasmin_day_HadCM3_rcp45_r1i1p1_20060101-203012...</td>\n",
       "      <td>http://esgf-data1.ceda.ac.uk/thredds/fileServe...</td>\n",
       "    </tr>\n",
       "    <tr>\n",
       "      <th>1</th>\n",
       "      <td>tasmin_day_HadCM3_rcp45_r1i1p1_20310101-203512...</td>\n",
       "      <td>http://esgf-data1.ceda.ac.uk/thredds/fileServe...</td>\n",
       "    </tr>\n",
       "    <tr>\n",
       "      <th>2</th>\n",
       "      <td>tasmax_day_HadCM3_rcp45_r1i1p1_20060101-203012...</td>\n",
       "      <td>http://esgf-data1.ceda.ac.uk/thredds/fileServe...</td>\n",
       "    </tr>\n",
       "    <tr>\n",
       "      <th>3</th>\n",
       "      <td>tasmax_day_HadCM3_rcp45_r1i1p1_20310101-203512...</td>\n",
       "      <td>http://esgf-data1.ceda.ac.uk/thredds/fileServe...</td>\n",
       "    </tr>\n",
       "    <tr>\n",
       "      <th>4</th>\n",
       "      <td>pr_day_HadCM3_rcp45_r1i1p1_20060101-20301230.nc</td>\n",
       "      <td>http://esgf-data1.ceda.ac.uk/thredds/fileServe...</td>\n",
       "    </tr>\n",
       "    <tr>\n",
       "      <th>5</th>\n",
       "      <td>pr_day_HadCM3_rcp45_r1i1p1_20310101-20351230.nc</td>\n",
       "      <td>http://esgf-data1.ceda.ac.uk/thredds/fileServe...</td>\n",
       "    </tr>\n",
       "  </tbody>\n",
       "</table>\n",
       "</div>"
      ],
      "text/plain": [
       "                                            filename                                                url\n",
       "0  tasmin_day_HadCM3_rcp45_r1i1p1_20060101-203012...  http://esgf-data1.ceda.ac.uk/thredds/fileServe...\n",
       "1  tasmin_day_HadCM3_rcp45_r1i1p1_20310101-203512...  http://esgf-data1.ceda.ac.uk/thredds/fileServe...\n",
       "2  tasmax_day_HadCM3_rcp45_r1i1p1_20060101-203012...  http://esgf-data1.ceda.ac.uk/thredds/fileServe...\n",
       "3  tasmax_day_HadCM3_rcp45_r1i1p1_20310101-203512...  http://esgf-data1.ceda.ac.uk/thredds/fileServe...\n",
       "4    pr_day_HadCM3_rcp45_r1i1p1_20060101-20301230.nc  http://esgf-data1.ceda.ac.uk/thredds/fileServe...\n",
       "5    pr_day_HadCM3_rcp45_r1i1p1_20310101-20351230.nc  http://esgf-data1.ceda.ac.uk/thredds/fileServe..."
      ]
     },
     "execution_count": 386,
     "metadata": {},
     "output_type": "execute_result"
    }
   ],
   "source": [
    " #drop the long-range (2101–2300) projections from our list of downloads\n",
    "files = files[~files['filename'].str.contains(\"210101\")]\n",
    "\n",
    "#remove duplicate filenames\n",
    "files = files.drop_duplicates(subset='filename', keep=\"first\") \n",
    "\n",
    "files"
   ]
  },
  {
   "cell_type": "code",
   "execution_count": 388,
   "metadata": {
    "executionInfo": {
     "elapsed": 252,
     "status": "ok",
     "timestamp": 1638495994700,
     "user": {
      "displayName": "Aubierge SOHOU",
      "photoUrl": "https://lh3.googleusercontent.com/a-/AOh14Gg7Cig_oc9kWwo1SepNoNTlvEh0Ob73Pbv8sJeqMoA=s64",
      "userId": "15209820810841804475"
     },
     "user_tz": 300
    },
    "id": "Wm74SDeqJ-D7"
   },
   "outputs": [],
   "source": [
    "# Adapted from: https://stackoverflow.com/a/37573701\n",
    "def download(url, filename):\n",
    "    print(\"Downloading \", filename)\n",
    "    r = requests.get(url, stream=True)\n",
    "    total_size, block_size = int(r.headers.get('content-length', 0)), 1024\n",
    "    with open(filename, 'wb') as f:\n",
    "        for data in tqdm(r.iter_content(block_size), total=total_size//block_size, unit='KiB', unit_scale=True):\n",
    "            f.write(data)\n",
    "            \n",
    "    if total_size != 0 and os.path.getsize(filename) != total_size:\n",
    "        print(\"Downloaded size does not match expected size!\\n\",\n",
    "              \"FYI, the status code was \", r.status_code)"
   ]
  },
  {
   "cell_type": "code",
   "execution_count": 389,
   "metadata": {
    "colab": {
     "base_uri": "https://localhost:8080/"
    },
    "executionInfo": {
     "elapsed": 25286,
     "status": "ok",
     "timestamp": 1638496022029,
     "user": {
      "displayName": "Aubierge SOHOU",
      "photoUrl": "https://lh3.googleusercontent.com/a-/AOh14Gg7Cig_oc9kWwo1SepNoNTlvEh0Ob73Pbv8sJeqMoA=s64",
      "userId": "15209820810841804475"
     },
     "user_tz": 300
    },
    "id": "zLcksuSZJ_sT",
    "outputId": "b43b38f4-5f8b-4c45-ce3b-09cddf04e1f1"
   },
   "outputs": [
    {
     "name": "stdout",
     "output_type": "stream",
     "text": [
      "Downloading  tasmin_day_HadCM3_rcp45_r1i1p1_20060101-20301230.nc\n"
     ]
    },
    {
     "name": "stderr",
     "output_type": "stream",
     "text": [
      "247kKiB [00:24, 10.1kKiB/s]                         \n"
     ]
    }
   ],
   "source": [
    "download(files.url[0], files.filename[0])"
   ]
  },
  {
   "cell_type": "code",
   "execution_count": 390,
   "metadata": {
    "executionInfo": {
     "elapsed": 273,
     "status": "ok",
     "timestamp": 1638496167265,
     "user": {
      "displayName": "Aubierge SOHOU",
      "photoUrl": "https://lh3.googleusercontent.com/a-/AOh14Gg7Cig_oc9kWwo1SepNoNTlvEh0Ob73Pbv8sJeqMoA=s64",
      "userId": "15209820810841804475"
     },
     "user_tz": 300
    },
    "id": "Ji0_xlBt-zwo"
   },
   "outputs": [],
   "source": [
    "nc_lat = nc.variables['lat'][:].data\n",
    "nc_lon = nc.variables['lon'][:].data"
   ]
  },
  {
   "cell_type": "code",
   "execution_count": 391,
   "metadata": {
    "executionInfo": {
     "elapsed": 279,
     "status": "ok",
     "timestamp": 1638496225595,
     "user": {
      "displayName": "Aubierge SOHOU",
      "photoUrl": "https://lh3.googleusercontent.com/a-/AOh14Gg7Cig_oc9kWwo1SepNoNTlvEh0Ob73Pbv8sJeqMoA=s64",
      "userId": "15209820810841804475"
     },
     "user_tz": 300
    },
    "id": "q7SyEYlZqZOW"
   },
   "outputs": [],
   "source": [
    "nc = Dataset(files.filename[0])\n",
    "\n",
    "time_start = date2index(dt.datetime(1981, 1, 1), nc_time, select=\"nearest\")\n",
    "time_end = date2index(dt.datetime(2100, 12, 31), nc_time, select=\"nearest\")\n",
    "\n",
    "num2date(nc_time[time_end], units=nc_time.units, calendar=nc_time.calendar)\n",
    "\n",
    "nc_lat = nc.variables['lat'][:].data\n",
    "nc_lon = nc.variables['lon'][:].data\n",
    "\n",
    "bangui = pd.read_excel('Bangui_pts.xlsx', index_col=0, dtype={'id': int, 'lat': float, 'long': float})\n",
    "banguiValues = []\n",
    "for row in bangui.iterrows():\n",
    "  banguiValues.append([row[1].long, row[1].lat])\n",
    "  \n",
    "polygonBangui = Polygon(banguiValues)"
   ]
  },
  {
   "cell_type": "code",
   "execution_count": 409,
   "metadata": {
    "colab": {
     "base_uri": "https://localhost:8080/",
     "height": 554
    },
    "executionInfo": {
     "elapsed": 1278,
     "status": "error",
     "timestamp": 1638499215019,
     "user": {
      "displayName": "Aubierge SOHOU",
      "photoUrl": "https://lh3.googleusercontent.com/a-/AOh14Gg7Cig_oc9kWwo1SepNoNTlvEh0Ob73Pbv8sJeqMoA=s64",
      "userId": "15209820810841804475"
     },
     "user_tz": 300
    },
    "id": "n_9j9IjKKPVv",
    "outputId": "a7ef2186-3159-408c-ac0b-eac5dea8af81"
   },
   "outputs": [
    {
     "ename": "OSError",
     "evalue": "ignored",
     "output_type": "error",
     "traceback": [
      "\u001b[0;31m---------------------------------------------------------------------------\u001b[0m",
      "\u001b[0;31mKeyError\u001b[0m                                  Traceback (most recent call last)",
      "\u001b[0;32m/usr/local/lib/python3.7/dist-packages/xarray/backends/file_manager.py\u001b[0m in \u001b[0;36m_acquire_with_cache_info\u001b[0;34m(self, needs_lock)\u001b[0m\n\u001b[1;32m    198\u001b[0m             \u001b[0;32mtry\u001b[0m\u001b[0;34m:\u001b[0m\u001b[0;34m\u001b[0m\u001b[0;34m\u001b[0m\u001b[0m\n\u001b[0;32m--> 199\u001b[0;31m                 \u001b[0mfile\u001b[0m \u001b[0;34m=\u001b[0m \u001b[0mself\u001b[0m\u001b[0;34m.\u001b[0m\u001b[0m_cache\u001b[0m\u001b[0;34m[\u001b[0m\u001b[0mself\u001b[0m\u001b[0;34m.\u001b[0m\u001b[0m_key\u001b[0m\u001b[0;34m]\u001b[0m\u001b[0;34m\u001b[0m\u001b[0;34m\u001b[0m\u001b[0m\n\u001b[0m\u001b[1;32m    200\u001b[0m             \u001b[0;32mexcept\u001b[0m \u001b[0mKeyError\u001b[0m\u001b[0;34m:\u001b[0m\u001b[0;34m\u001b[0m\u001b[0;34m\u001b[0m\u001b[0m\n",
      "\u001b[0;32m/usr/local/lib/python3.7/dist-packages/xarray/backends/lru_cache.py\u001b[0m in \u001b[0;36m__getitem__\u001b[0;34m(self, key)\u001b[0m\n\u001b[1;32m     52\u001b[0m         \u001b[0;32mwith\u001b[0m \u001b[0mself\u001b[0m\u001b[0;34m.\u001b[0m\u001b[0m_lock\u001b[0m\u001b[0;34m:\u001b[0m\u001b[0;34m\u001b[0m\u001b[0;34m\u001b[0m\u001b[0m\n\u001b[0;32m---> 53\u001b[0;31m             \u001b[0mvalue\u001b[0m \u001b[0;34m=\u001b[0m \u001b[0mself\u001b[0m\u001b[0;34m.\u001b[0m\u001b[0m_cache\u001b[0m\u001b[0;34m[\u001b[0m\u001b[0mkey\u001b[0m\u001b[0;34m]\u001b[0m\u001b[0;34m\u001b[0m\u001b[0;34m\u001b[0m\u001b[0m\n\u001b[0m\u001b[1;32m     54\u001b[0m             \u001b[0mself\u001b[0m\u001b[0;34m.\u001b[0m\u001b[0m_cache\u001b[0m\u001b[0;34m.\u001b[0m\u001b[0mmove_to_end\u001b[0m\u001b[0;34m(\u001b[0m\u001b[0mkey\u001b[0m\u001b[0;34m)\u001b[0m\u001b[0;34m\u001b[0m\u001b[0;34m\u001b[0m\u001b[0m\n",
      "\u001b[0;31mKeyError\u001b[0m: [<class 'netCDF4._netCDF4.Dataset'>, ('http://esgf-data1.ceda.ac.uk/thredds/fileServer/esg_dataroot/cmip5/output1/MOHC/HadCM3/rcp45/day/atmos/day/r1i1p1/v20131125/tasmin/tasmin_day_HadCM3_rcp45_r1i1p1_20060101-20301230.nc',), 'r', (('clobber', True), ('diskless', False), ('format', 'NETCDF4'), ('persist', False))]",
      "\nDuring handling of the above exception, another exception occurred:\n",
      "\u001b[0;31mOSError\u001b[0m                                   Traceback (most recent call last)",
      "\u001b[0;32m<ipython-input-409-dc8eb95545ae>\u001b[0m in \u001b[0;36m<module>\u001b[0;34m()\u001b[0m\n\u001b[1;32m      1\u001b[0m \u001b[0;32mimport\u001b[0m \u001b[0mxarray\u001b[0m \u001b[0;32mas\u001b[0m \u001b[0mxr\u001b[0m\u001b[0;34m\u001b[0m\u001b[0;34m\u001b[0m\u001b[0m\n\u001b[0;32m----> 2\u001b[0;31m \u001b[0mds\u001b[0m \u001b[0;34m=\u001b[0m \u001b[0mxr\u001b[0m\u001b[0;34m.\u001b[0m\u001b[0mopen_dataset\u001b[0m\u001b[0;34m(\u001b[0m\u001b[0mfiles\u001b[0m\u001b[0;34m.\u001b[0m\u001b[0murl\u001b[0m\u001b[0;34m[\u001b[0m\u001b[0;36m0\u001b[0m\u001b[0;34m]\u001b[0m\u001b[0;34m)\u001b[0m\u001b[0;34m\u001b[0m\u001b[0;34m\u001b[0m\u001b[0m\n\u001b[0m\u001b[1;32m      3\u001b[0m \u001b[0mprint\u001b[0m\u001b[0;34m(\u001b[0m\u001b[0mds\u001b[0m\u001b[0;34m)\u001b[0m\u001b[0;34m\u001b[0m\u001b[0;34m\u001b[0m\u001b[0m\n",
      "\u001b[0;32m/usr/local/lib/python3.7/dist-packages/xarray/backends/api.py\u001b[0m in \u001b[0;36mopen_dataset\u001b[0;34m(filename_or_obj, engine, chunks, cache, decode_cf, mask_and_scale, decode_times, decode_timedelta, use_cftime, concat_characters, decode_coords, drop_variables, backend_kwargs, *args, **kwargs)\u001b[0m\n\u001b[1;32m    498\u001b[0m         \u001b[0mdrop_variables\u001b[0m\u001b[0;34m=\u001b[0m\u001b[0mdrop_variables\u001b[0m\u001b[0;34m,\u001b[0m\u001b[0;34m\u001b[0m\u001b[0;34m\u001b[0m\u001b[0m\n\u001b[1;32m    499\u001b[0m         \u001b[0;34m**\u001b[0m\u001b[0mdecoders\u001b[0m\u001b[0;34m,\u001b[0m\u001b[0;34m\u001b[0m\u001b[0;34m\u001b[0m\u001b[0m\n\u001b[0;32m--> 500\u001b[0;31m         \u001b[0;34m**\u001b[0m\u001b[0mkwargs\u001b[0m\u001b[0;34m,\u001b[0m\u001b[0;34m\u001b[0m\u001b[0;34m\u001b[0m\u001b[0m\n\u001b[0m\u001b[1;32m    501\u001b[0m     )\n\u001b[1;32m    502\u001b[0m     ds = _dataset_from_backend_dataset(\n",
      "\u001b[0;32m/usr/local/lib/python3.7/dist-packages/xarray/backends/netCDF4_.py\u001b[0m in \u001b[0;36mopen_dataset\u001b[0;34m(self, filename_or_obj, mask_and_scale, decode_times, concat_characters, decode_coords, drop_variables, use_cftime, decode_timedelta, group, mode, format, clobber, diskless, persist, lock, autoclose)\u001b[0m\n\u001b[1;32m    556\u001b[0m             \u001b[0mpersist\u001b[0m\u001b[0;34m=\u001b[0m\u001b[0mpersist\u001b[0m\u001b[0;34m,\u001b[0m\u001b[0;34m\u001b[0m\u001b[0;34m\u001b[0m\u001b[0m\n\u001b[1;32m    557\u001b[0m             \u001b[0mlock\u001b[0m\u001b[0;34m=\u001b[0m\u001b[0mlock\u001b[0m\u001b[0;34m,\u001b[0m\u001b[0;34m\u001b[0m\u001b[0;34m\u001b[0m\u001b[0m\n\u001b[0;32m--> 558\u001b[0;31m             \u001b[0mautoclose\u001b[0m\u001b[0;34m=\u001b[0m\u001b[0mautoclose\u001b[0m\u001b[0;34m,\u001b[0m\u001b[0;34m\u001b[0m\u001b[0;34m\u001b[0m\u001b[0m\n\u001b[0m\u001b[1;32m    559\u001b[0m         )\n\u001b[1;32m    560\u001b[0m \u001b[0;34m\u001b[0m\u001b[0m\n",
      "\u001b[0;32m/usr/local/lib/python3.7/dist-packages/xarray/backends/netCDF4_.py\u001b[0m in \u001b[0;36mopen\u001b[0;34m(cls, filename, mode, format, group, clobber, diskless, persist, lock, lock_maker, autoclose)\u001b[0m\n\u001b[1;32m    378\u001b[0m             \u001b[0mnetCDF4\u001b[0m\u001b[0;34m.\u001b[0m\u001b[0mDataset\u001b[0m\u001b[0;34m,\u001b[0m \u001b[0mfilename\u001b[0m\u001b[0;34m,\u001b[0m \u001b[0mmode\u001b[0m\u001b[0;34m=\u001b[0m\u001b[0mmode\u001b[0m\u001b[0;34m,\u001b[0m \u001b[0mkwargs\u001b[0m\u001b[0;34m=\u001b[0m\u001b[0mkwargs\u001b[0m\u001b[0;34m\u001b[0m\u001b[0;34m\u001b[0m\u001b[0m\n\u001b[1;32m    379\u001b[0m         )\n\u001b[0;32m--> 380\u001b[0;31m         \u001b[0;32mreturn\u001b[0m \u001b[0mcls\u001b[0m\u001b[0;34m(\u001b[0m\u001b[0mmanager\u001b[0m\u001b[0;34m,\u001b[0m \u001b[0mgroup\u001b[0m\u001b[0;34m=\u001b[0m\u001b[0mgroup\u001b[0m\u001b[0;34m,\u001b[0m \u001b[0mmode\u001b[0m\u001b[0;34m=\u001b[0m\u001b[0mmode\u001b[0m\u001b[0;34m,\u001b[0m \u001b[0mlock\u001b[0m\u001b[0;34m=\u001b[0m\u001b[0mlock\u001b[0m\u001b[0;34m,\u001b[0m \u001b[0mautoclose\u001b[0m\u001b[0;34m=\u001b[0m\u001b[0mautoclose\u001b[0m\u001b[0;34m)\u001b[0m\u001b[0;34m\u001b[0m\u001b[0;34m\u001b[0m\u001b[0m\n\u001b[0m\u001b[1;32m    381\u001b[0m \u001b[0;34m\u001b[0m\u001b[0m\n\u001b[1;32m    382\u001b[0m     \u001b[0;32mdef\u001b[0m \u001b[0m_acquire\u001b[0m\u001b[0;34m(\u001b[0m\u001b[0mself\u001b[0m\u001b[0;34m,\u001b[0m \u001b[0mneeds_lock\u001b[0m\u001b[0;34m=\u001b[0m\u001b[0;32mTrue\u001b[0m\u001b[0;34m)\u001b[0m\u001b[0;34m:\u001b[0m\u001b[0;34m\u001b[0m\u001b[0;34m\u001b[0m\u001b[0m\n",
      "\u001b[0;32m/usr/local/lib/python3.7/dist-packages/xarray/backends/netCDF4_.py\u001b[0m in \u001b[0;36m__init__\u001b[0;34m(self, manager, group, mode, lock, autoclose)\u001b[0m\n\u001b[1;32m    326\u001b[0m         \u001b[0mself\u001b[0m\u001b[0;34m.\u001b[0m\u001b[0m_group\u001b[0m \u001b[0;34m=\u001b[0m \u001b[0mgroup\u001b[0m\u001b[0;34m\u001b[0m\u001b[0;34m\u001b[0m\u001b[0m\n\u001b[1;32m    327\u001b[0m         \u001b[0mself\u001b[0m\u001b[0;34m.\u001b[0m\u001b[0m_mode\u001b[0m \u001b[0;34m=\u001b[0m \u001b[0mmode\u001b[0m\u001b[0;34m\u001b[0m\u001b[0;34m\u001b[0m\u001b[0m\n\u001b[0;32m--> 328\u001b[0;31m         \u001b[0mself\u001b[0m\u001b[0;34m.\u001b[0m\u001b[0mformat\u001b[0m \u001b[0;34m=\u001b[0m \u001b[0mself\u001b[0m\u001b[0;34m.\u001b[0m\u001b[0mds\u001b[0m\u001b[0;34m.\u001b[0m\u001b[0mdata_model\u001b[0m\u001b[0;34m\u001b[0m\u001b[0;34m\u001b[0m\u001b[0m\n\u001b[0m\u001b[1;32m    329\u001b[0m         \u001b[0mself\u001b[0m\u001b[0;34m.\u001b[0m\u001b[0m_filename\u001b[0m \u001b[0;34m=\u001b[0m \u001b[0mself\u001b[0m\u001b[0;34m.\u001b[0m\u001b[0mds\u001b[0m\u001b[0;34m.\u001b[0m\u001b[0mfilepath\u001b[0m\u001b[0;34m(\u001b[0m\u001b[0;34m)\u001b[0m\u001b[0;34m\u001b[0m\u001b[0;34m\u001b[0m\u001b[0m\n\u001b[1;32m    330\u001b[0m         \u001b[0mself\u001b[0m\u001b[0;34m.\u001b[0m\u001b[0mis_remote\u001b[0m \u001b[0;34m=\u001b[0m \u001b[0mis_remote_uri\u001b[0m\u001b[0;34m(\u001b[0m\u001b[0mself\u001b[0m\u001b[0;34m.\u001b[0m\u001b[0m_filename\u001b[0m\u001b[0;34m)\u001b[0m\u001b[0;34m\u001b[0m\u001b[0;34m\u001b[0m\u001b[0m\n",
      "\u001b[0;32m/usr/local/lib/python3.7/dist-packages/xarray/backends/netCDF4_.py\u001b[0m in \u001b[0;36mds\u001b[0;34m(self)\u001b[0m\n\u001b[1;32m    387\u001b[0m     \u001b[0;34m@\u001b[0m\u001b[0mproperty\u001b[0m\u001b[0;34m\u001b[0m\u001b[0;34m\u001b[0m\u001b[0m\n\u001b[1;32m    388\u001b[0m     \u001b[0;32mdef\u001b[0m \u001b[0mds\u001b[0m\u001b[0;34m(\u001b[0m\u001b[0mself\u001b[0m\u001b[0;34m)\u001b[0m\u001b[0;34m:\u001b[0m\u001b[0;34m\u001b[0m\u001b[0;34m\u001b[0m\u001b[0m\n\u001b[0;32m--> 389\u001b[0;31m         \u001b[0;32mreturn\u001b[0m \u001b[0mself\u001b[0m\u001b[0;34m.\u001b[0m\u001b[0m_acquire\u001b[0m\u001b[0;34m(\u001b[0m\u001b[0;34m)\u001b[0m\u001b[0;34m\u001b[0m\u001b[0;34m\u001b[0m\u001b[0m\n\u001b[0m\u001b[1;32m    390\u001b[0m \u001b[0;34m\u001b[0m\u001b[0m\n\u001b[1;32m    391\u001b[0m     \u001b[0;32mdef\u001b[0m \u001b[0mopen_store_variable\u001b[0m\u001b[0;34m(\u001b[0m\u001b[0mself\u001b[0m\u001b[0;34m,\u001b[0m \u001b[0mname\u001b[0m\u001b[0;34m,\u001b[0m \u001b[0mvar\u001b[0m\u001b[0;34m)\u001b[0m\u001b[0;34m:\u001b[0m\u001b[0;34m\u001b[0m\u001b[0;34m\u001b[0m\u001b[0m\n",
      "\u001b[0;32m/usr/local/lib/python3.7/dist-packages/xarray/backends/netCDF4_.py\u001b[0m in \u001b[0;36m_acquire\u001b[0;34m(self, needs_lock)\u001b[0m\n\u001b[1;32m    381\u001b[0m \u001b[0;34m\u001b[0m\u001b[0m\n\u001b[1;32m    382\u001b[0m     \u001b[0;32mdef\u001b[0m \u001b[0m_acquire\u001b[0m\u001b[0;34m(\u001b[0m\u001b[0mself\u001b[0m\u001b[0;34m,\u001b[0m \u001b[0mneeds_lock\u001b[0m\u001b[0;34m=\u001b[0m\u001b[0;32mTrue\u001b[0m\u001b[0;34m)\u001b[0m\u001b[0;34m:\u001b[0m\u001b[0;34m\u001b[0m\u001b[0;34m\u001b[0m\u001b[0m\n\u001b[0;32m--> 383\u001b[0;31m         \u001b[0;32mwith\u001b[0m \u001b[0mself\u001b[0m\u001b[0;34m.\u001b[0m\u001b[0m_manager\u001b[0m\u001b[0;34m.\u001b[0m\u001b[0macquire_context\u001b[0m\u001b[0;34m(\u001b[0m\u001b[0mneeds_lock\u001b[0m\u001b[0;34m)\u001b[0m \u001b[0;32mas\u001b[0m \u001b[0mroot\u001b[0m\u001b[0;34m:\u001b[0m\u001b[0;34m\u001b[0m\u001b[0;34m\u001b[0m\u001b[0m\n\u001b[0m\u001b[1;32m    384\u001b[0m             \u001b[0mds\u001b[0m \u001b[0;34m=\u001b[0m \u001b[0m_nc4_require_group\u001b[0m\u001b[0;34m(\u001b[0m\u001b[0mroot\u001b[0m\u001b[0;34m,\u001b[0m \u001b[0mself\u001b[0m\u001b[0;34m.\u001b[0m\u001b[0m_group\u001b[0m\u001b[0;34m,\u001b[0m \u001b[0mself\u001b[0m\u001b[0;34m.\u001b[0m\u001b[0m_mode\u001b[0m\u001b[0;34m)\u001b[0m\u001b[0;34m\u001b[0m\u001b[0;34m\u001b[0m\u001b[0m\n\u001b[1;32m    385\u001b[0m         \u001b[0;32mreturn\u001b[0m \u001b[0mds\u001b[0m\u001b[0;34m\u001b[0m\u001b[0;34m\u001b[0m\u001b[0m\n",
      "\u001b[0;32m/usr/lib/python3.7/contextlib.py\u001b[0m in \u001b[0;36m__enter__\u001b[0;34m(self)\u001b[0m\n\u001b[1;32m    110\u001b[0m         \u001b[0;32mdel\u001b[0m \u001b[0mself\u001b[0m\u001b[0;34m.\u001b[0m\u001b[0margs\u001b[0m\u001b[0;34m,\u001b[0m \u001b[0mself\u001b[0m\u001b[0;34m.\u001b[0m\u001b[0mkwds\u001b[0m\u001b[0;34m,\u001b[0m \u001b[0mself\u001b[0m\u001b[0;34m.\u001b[0m\u001b[0mfunc\u001b[0m\u001b[0;34m\u001b[0m\u001b[0;34m\u001b[0m\u001b[0m\n\u001b[1;32m    111\u001b[0m         \u001b[0;32mtry\u001b[0m\u001b[0;34m:\u001b[0m\u001b[0;34m\u001b[0m\u001b[0;34m\u001b[0m\u001b[0m\n\u001b[0;32m--> 112\u001b[0;31m             \u001b[0;32mreturn\u001b[0m \u001b[0mnext\u001b[0m\u001b[0;34m(\u001b[0m\u001b[0mself\u001b[0m\u001b[0;34m.\u001b[0m\u001b[0mgen\u001b[0m\u001b[0;34m)\u001b[0m\u001b[0;34m\u001b[0m\u001b[0;34m\u001b[0m\u001b[0m\n\u001b[0m\u001b[1;32m    113\u001b[0m         \u001b[0;32mexcept\u001b[0m \u001b[0mStopIteration\u001b[0m\u001b[0;34m:\u001b[0m\u001b[0;34m\u001b[0m\u001b[0;34m\u001b[0m\u001b[0m\n\u001b[1;32m    114\u001b[0m             \u001b[0;32mraise\u001b[0m \u001b[0mRuntimeError\u001b[0m\u001b[0;34m(\u001b[0m\u001b[0;34m\"generator didn't yield\"\u001b[0m\u001b[0;34m)\u001b[0m \u001b[0;32mfrom\u001b[0m \u001b[0;32mNone\u001b[0m\u001b[0;34m\u001b[0m\u001b[0;34m\u001b[0m\u001b[0m\n",
      "\u001b[0;32m/usr/local/lib/python3.7/dist-packages/xarray/backends/file_manager.py\u001b[0m in \u001b[0;36macquire_context\u001b[0;34m(self, needs_lock)\u001b[0m\n\u001b[1;32m    185\u001b[0m     \u001b[0;32mdef\u001b[0m \u001b[0macquire_context\u001b[0m\u001b[0;34m(\u001b[0m\u001b[0mself\u001b[0m\u001b[0;34m,\u001b[0m \u001b[0mneeds_lock\u001b[0m\u001b[0;34m=\u001b[0m\u001b[0;32mTrue\u001b[0m\u001b[0;34m)\u001b[0m\u001b[0;34m:\u001b[0m\u001b[0;34m\u001b[0m\u001b[0;34m\u001b[0m\u001b[0m\n\u001b[1;32m    186\u001b[0m         \u001b[0;34m\"\"\"Context manager for acquiring a file.\"\"\"\u001b[0m\u001b[0;34m\u001b[0m\u001b[0;34m\u001b[0m\u001b[0m\n\u001b[0;32m--> 187\u001b[0;31m         \u001b[0mfile\u001b[0m\u001b[0;34m,\u001b[0m \u001b[0mcached\u001b[0m \u001b[0;34m=\u001b[0m \u001b[0mself\u001b[0m\u001b[0;34m.\u001b[0m\u001b[0m_acquire_with_cache_info\u001b[0m\u001b[0;34m(\u001b[0m\u001b[0mneeds_lock\u001b[0m\u001b[0;34m)\u001b[0m\u001b[0;34m\u001b[0m\u001b[0;34m\u001b[0m\u001b[0m\n\u001b[0m\u001b[1;32m    188\u001b[0m         \u001b[0;32mtry\u001b[0m\u001b[0;34m:\u001b[0m\u001b[0;34m\u001b[0m\u001b[0;34m\u001b[0m\u001b[0m\n\u001b[1;32m    189\u001b[0m             \u001b[0;32myield\u001b[0m \u001b[0mfile\u001b[0m\u001b[0;34m\u001b[0m\u001b[0;34m\u001b[0m\u001b[0m\n",
      "\u001b[0;32m/usr/local/lib/python3.7/dist-packages/xarray/backends/file_manager.py\u001b[0m in \u001b[0;36m_acquire_with_cache_info\u001b[0;34m(self, needs_lock)\u001b[0m\n\u001b[1;32m    203\u001b[0m                     \u001b[0mkwargs\u001b[0m \u001b[0;34m=\u001b[0m \u001b[0mkwargs\u001b[0m\u001b[0;34m.\u001b[0m\u001b[0mcopy\u001b[0m\u001b[0;34m(\u001b[0m\u001b[0;34m)\u001b[0m\u001b[0;34m\u001b[0m\u001b[0;34m\u001b[0m\u001b[0m\n\u001b[1;32m    204\u001b[0m                     \u001b[0mkwargs\u001b[0m\u001b[0;34m[\u001b[0m\u001b[0;34m\"mode\"\u001b[0m\u001b[0;34m]\u001b[0m \u001b[0;34m=\u001b[0m \u001b[0mself\u001b[0m\u001b[0;34m.\u001b[0m\u001b[0m_mode\u001b[0m\u001b[0;34m\u001b[0m\u001b[0;34m\u001b[0m\u001b[0m\n\u001b[0;32m--> 205\u001b[0;31m                 \u001b[0mfile\u001b[0m \u001b[0;34m=\u001b[0m \u001b[0mself\u001b[0m\u001b[0;34m.\u001b[0m\u001b[0m_opener\u001b[0m\u001b[0;34m(\u001b[0m\u001b[0;34m*\u001b[0m\u001b[0mself\u001b[0m\u001b[0;34m.\u001b[0m\u001b[0m_args\u001b[0m\u001b[0;34m,\u001b[0m \u001b[0;34m**\u001b[0m\u001b[0mkwargs\u001b[0m\u001b[0;34m)\u001b[0m\u001b[0;34m\u001b[0m\u001b[0;34m\u001b[0m\u001b[0m\n\u001b[0m\u001b[1;32m    206\u001b[0m                 \u001b[0;32mif\u001b[0m \u001b[0mself\u001b[0m\u001b[0;34m.\u001b[0m\u001b[0m_mode\u001b[0m \u001b[0;34m==\u001b[0m \u001b[0;34m\"w\"\u001b[0m\u001b[0;34m:\u001b[0m\u001b[0;34m\u001b[0m\u001b[0;34m\u001b[0m\u001b[0m\n\u001b[1;32m    207\u001b[0m                     \u001b[0;31m# ensure file doesn't get overriden when opened again\u001b[0m\u001b[0;34m\u001b[0m\u001b[0;34m\u001b[0m\u001b[0;34m\u001b[0m\u001b[0m\n",
      "\u001b[0;32msrc/netCDF4/_netCDF4.pyx\u001b[0m in \u001b[0;36mnetCDF4._netCDF4.Dataset.__init__\u001b[0;34m()\u001b[0m\n",
      "\u001b[0;32msrc/netCDF4/_netCDF4.pyx\u001b[0m in \u001b[0;36mnetCDF4._netCDF4._ensure_nc_success\u001b[0;34m()\u001b[0m\n",
      "\u001b[0;31mOSError\u001b[0m: [Errno -90] NetCDF: file not found: b'http://esgf-data1.ceda.ac.uk/thredds/fileServer/esg_dataroot/cmip5/output1/MOHC/HadCM3/rcp45/day/atmos/day/r1i1p1/v20131125/tasmin/tasmin_day_HadCM3_rcp45_r1i1p1_20060101-20301230.nc'"
     ]
    }
   ],
   "source": [
    "import xarray as xr\n",
    "ds = xr.open_dataset(files.url[0])\n",
    "print(ds)"
   ]
  },
  {
   "cell_type": "code",
   "execution_count": 407,
   "metadata": {
    "colab": {
     "base_uri": "https://localhost:8080/"
    },
    "executionInfo": {
     "elapsed": 257,
     "status": "ok",
     "timestamp": 1638496870052,
     "user": {
      "displayName": "Aubierge SOHOU",
      "photoUrl": "https://lh3.googleusercontent.com/a-/AOh14Gg7Cig_oc9kWwo1SepNoNTlvEh0Ob73Pbv8sJeqMoA=s64",
      "userId": "15209820810841804475"
     },
     "user_tz": 300
    },
    "id": "hVLqbhlTA454",
    "outputId": "84e30196-2826-4f3d-87bd-3dac3f363b64"
   },
   "outputs": [
    {
     "data": {
      "text/plain": [
       "{'bnds': <class 'netCDF4._netCDF4.Dimension'>: name = 'bnds', size = 2,\n",
       " 'lat': <class 'netCDF4._netCDF4.Dimension'>: name = 'lat', size = 73,\n",
       " 'lon': <class 'netCDF4._netCDF4.Dimension'>: name = 'lon', size = 96,\n",
       " 'time': <class 'netCDF4._netCDF4.Dimension'> (unlimited): name = 'time', size = 9000}"
      ]
     },
     "execution_count": 407,
     "metadata": {},
     "output_type": "execute_result"
    }
   ],
   "source": [
    "nc = Dataset(files.filename[0])\n",
    "nc.dimensions"
   ]
  },
  {
   "cell_type": "code",
   "execution_count": 413,
   "metadata": {
    "colab": {
     "base_uri": "https://localhost:8080/"
    },
    "executionInfo": {
     "elapsed": 268,
     "status": "ok",
     "timestamp": 1638499335327,
     "user": {
      "displayName": "Aubierge SOHOU",
      "photoUrl": "https://lh3.googleusercontent.com/a-/AOh14Gg7Cig_oc9kWwo1SepNoNTlvEh0Ob73Pbv8sJeqMoA=s64",
      "userId": "15209820810841804475"
     },
     "user_tz": 300
    },
    "id": "iQokBnW8_7Sb",
    "outputId": "97bfdfa1-b66f-4f53-b3f3-0072c17f2fc1"
   },
   "outputs": [
    {
     "data": {
      "text/plain": [
       "73"
      ]
     },
     "execution_count": 413,
     "metadata": {},
     "output_type": "execute_result"
    }
   ],
   "source": [
    "nc_lat = nc.variables['lat'][:].data\n",
    "len(nc_lat)"
   ]
  },
  {
   "cell_type": "code",
   "execution_count": 412,
   "metadata": {
    "colab": {
     "base_uri": "https://localhost:8080/"
    },
    "executionInfo": {
     "elapsed": 270,
     "status": "ok",
     "timestamp": 1638499326526,
     "user": {
      "displayName": "Aubierge SOHOU",
      "photoUrl": "https://lh3.googleusercontent.com/a-/AOh14Gg7Cig_oc9kWwo1SepNoNTlvEh0Ob73Pbv8sJeqMoA=s64",
      "userId": "15209820810841804475"
     },
     "user_tz": 300
    },
    "id": "R1u8jWrrKyj1",
    "outputId": "c340723d-2bbb-4965-d4bf-4481edd4eef1"
   },
   "outputs": [
    {
     "data": {
      "text/plain": [
       "96"
      ]
     },
     "execution_count": 412,
     "metadata": {},
     "output_type": "execute_result"
    }
   ],
   "source": [
    "nc_lon = nc.variables['lon'][:].data\n",
    "len(nc_lon)"
   ]
  },
  {
   "cell_type": "code",
   "execution_count": null,
   "metadata": {
    "id": "PBMl1PK_--FA"
   },
   "outputs": [],
   "source": [
    "nc_lat = nc.variables['lat'][:].data\n",
    "lat_cell = np.where((nc_lat[:,0] < row[1].lat) & (nc_lat[:,1] > row[1].lat))[0][0]\n",
    "\n",
    "nc_lon = nc.variables['lon'][:].data\n",
    "lon_cell = np.where(polygonBangui.contains(Point(row[1].long, row[1].long)) (nc_lon[:,0] < row[1].long) & (nc_lon[:,1] > row[1].long))[0][0]\n",
    "\n",
    "dat = nc.variables['tasmin'][time_start:(time_end + 1), lat_cell, lon_cell]\n",
    "dat = np.subtract(dat.data, 273.15)\n",
    "dates = num2date(nc_time[time_start:time_end + 1], units=nc_time.units, calendar=nc_time.calendar)\n",
    "df = pd.DataFrame({'Date': dates, 'Tmin': dat})\n",
    "df.head()"
   ]
  },
  {
   "cell_type": "code",
   "execution_count": 361,
   "metadata": {
    "colab": {
     "base_uri": "https://localhost:8080/",
     "height": 234
    },
    "executionInfo": {
     "elapsed": 255,
     "status": "error",
     "timestamp": 1638495360844,
     "user": {
      "displayName": "Aubierge SOHOU",
      "photoUrl": "https://lh3.googleusercontent.com/a-/AOh14Gg7Cig_oc9kWwo1SepNoNTlvEh0Ob73Pbv8sJeqMoA=s64",
      "userId": "15209820810841804475"
     },
     "user_tz": 300
    },
    "id": "NJuKnyEk5n89",
    "outputId": "697edec3-96b5-4913-c457-13f41836beff"
   },
   "outputs": [
    {
     "ename": "KeyError",
     "evalue": "ignored",
     "output_type": "error",
     "traceback": [
      "\u001b[0;31m---------------------------------------------------------------------------\u001b[0m",
      "\u001b[0;31mKeyError\u001b[0m                                  Traceback (most recent call last)",
      "\u001b[0;32m<ipython-input-361-9029972d320e>\u001b[0m in \u001b[0;36m<module>\u001b[0;34m()\u001b[0m\n\u001b[1;32m      5\u001b[0m \u001b[0mlon_cell\u001b[0m \u001b[0;34m=\u001b[0m \u001b[0mnp\u001b[0m\u001b[0;34m.\u001b[0m\u001b[0mwhere\u001b[0m\u001b[0;34m(\u001b[0m\u001b[0;34m(\u001b[0m\u001b[0mnc_lon_bnds\u001b[0m\u001b[0;34m[\u001b[0m\u001b[0;34m:\u001b[0m\u001b[0;34m,\u001b[0m\u001b[0;36m0\u001b[0m\u001b[0;34m]\u001b[0m \u001b[0;34m<\u001b[0m \u001b[0mrow\u001b[0m\u001b[0;34m[\u001b[0m\u001b[0;36m1\u001b[0m\u001b[0;34m]\u001b[0m\u001b[0;34m.\u001b[0m\u001b[0mlong\u001b[0m\u001b[0;34m)\u001b[0m \u001b[0;34m&\u001b[0m \u001b[0;34m(\u001b[0m\u001b[0mnc_lon_bnds\u001b[0m\u001b[0;34m[\u001b[0m\u001b[0;34m:\u001b[0m\u001b[0;34m,\u001b[0m\u001b[0;36m1\u001b[0m\u001b[0;34m]\u001b[0m \u001b[0;34m>\u001b[0m \u001b[0mrow\u001b[0m\u001b[0;34m[\u001b[0m\u001b[0;36m1\u001b[0m\u001b[0;34m]\u001b[0m\u001b[0;34m.\u001b[0m\u001b[0mlong\u001b[0m\u001b[0;34m)\u001b[0m\u001b[0;34m)\u001b[0m\u001b[0;34m[\u001b[0m\u001b[0;36m0\u001b[0m\u001b[0;34m]\u001b[0m\u001b[0;34m[\u001b[0m\u001b[0;36m0\u001b[0m\u001b[0;34m]\u001b[0m\u001b[0;34m\u001b[0m\u001b[0;34m\u001b[0m\u001b[0m\n\u001b[1;32m      6\u001b[0m \u001b[0;34m\u001b[0m\u001b[0m\n\u001b[0;32m----> 7\u001b[0;31m \u001b[0mdat\u001b[0m \u001b[0;34m=\u001b[0m \u001b[0mnc\u001b[0m\u001b[0;34m.\u001b[0m\u001b[0mvariables\u001b[0m\u001b[0;34m[\u001b[0m\u001b[0;34m'tasmax'\u001b[0m\u001b[0;34m]\u001b[0m\u001b[0;34m[\u001b[0m\u001b[0mtime_start\u001b[0m\u001b[0;34m:\u001b[0m\u001b[0;34m(\u001b[0m\u001b[0mtime_end\u001b[0m \u001b[0;34m+\u001b[0m \u001b[0;36m1\u001b[0m\u001b[0;34m)\u001b[0m\u001b[0;34m,\u001b[0m \u001b[0mlat_cell\u001b[0m\u001b[0;34m,\u001b[0m \u001b[0mlon_cell\u001b[0m\u001b[0;34m]\u001b[0m\u001b[0;34m\u001b[0m\u001b[0;34m\u001b[0m\u001b[0m\n\u001b[0m\u001b[1;32m      8\u001b[0m \u001b[0mdat\u001b[0m \u001b[0;34m=\u001b[0m \u001b[0mnp\u001b[0m\u001b[0;34m.\u001b[0m\u001b[0msubtract\u001b[0m\u001b[0;34m(\u001b[0m\u001b[0mdat\u001b[0m\u001b[0;34m.\u001b[0m\u001b[0mdata\u001b[0m\u001b[0;34m,\u001b[0m \u001b[0;36m273.15\u001b[0m\u001b[0;34m)\u001b[0m\u001b[0;34m\u001b[0m\u001b[0;34m\u001b[0m\u001b[0m\n\u001b[1;32m      9\u001b[0m \u001b[0mdates\u001b[0m \u001b[0;34m=\u001b[0m \u001b[0mnum2date\u001b[0m\u001b[0;34m(\u001b[0m\u001b[0mnc_time\u001b[0m\u001b[0;34m[\u001b[0m\u001b[0mtime_start\u001b[0m\u001b[0;34m:\u001b[0m\u001b[0mtime_end\u001b[0m \u001b[0;34m+\u001b[0m \u001b[0;36m1\u001b[0m\u001b[0;34m]\u001b[0m\u001b[0;34m,\u001b[0m \u001b[0munits\u001b[0m\u001b[0;34m=\u001b[0m\u001b[0mnc_time\u001b[0m\u001b[0;34m.\u001b[0m\u001b[0munits\u001b[0m\u001b[0;34m,\u001b[0m \u001b[0mcalendar\u001b[0m\u001b[0;34m=\u001b[0m\u001b[0mnc_time\u001b[0m\u001b[0;34m.\u001b[0m\u001b[0mcalendar\u001b[0m\u001b[0;34m)\u001b[0m\u001b[0;34m\u001b[0m\u001b[0;34m\u001b[0m\u001b[0m\n",
      "\u001b[0;31mKeyError\u001b[0m: 'tasmax'"
     ]
    }
   ],
   "source": [
    "nc_lat_bnds = nc.variables[\"lat_bnds\"][:].data\n",
    "lat_cell = np.where((nc_lat_bnds[:,0] < row[1].lat) & (nc_lat_bnds[:,1] > row[1].lat))[0][0]\n",
    "\n",
    "nc_lon_bnds = nc.variables[\"lon_bnds\"][:].data\n",
    "lon_cell = np.where((nc_lon_bnds[:,0] < row[1].long) & (nc_lon_bnds[:,1] > row[1].long))[0][0]\n",
    "\n",
    "dat = nc.variables['tasmin'][time_start:(time_end + 1), lat_cell, lon_cell]\n",
    "dat = np.subtract(dat.data, 273.15)\n",
    "dates = num2date(nc_time[time_start:time_end + 1], units=nc_time.units, calendar=nc_time.calendar)\n",
    "df = pd.DataFrame({'Date': dates, 'Tmin': dat})\n",
    "df.head()"
   ]
  },
  {
   "cell_type": "code",
   "execution_count": 348,
   "metadata": {
    "colab": {
     "base_uri": "https://localhost:8080/",
     "height": 206
    },
    "executionInfo": {
     "elapsed": 264,
     "status": "ok",
     "timestamp": 1638494673569,
     "user": {
      "displayName": "Aubierge SOHOU",
      "photoUrl": "https://lh3.googleusercontent.com/a-/AOh14Gg7Cig_oc9kWwo1SepNoNTlvEh0Ob73Pbv8sJeqMoA=s64",
      "userId": "15209820810841804475"
     },
     "user_tz": 300
    },
    "id": "nTtMjtduxwfs",
    "outputId": "3a55cac0-c931-49b7-94aa-1318821c1258"
   },
   "outputs": [
    {
     "data": {
      "text/html": [
       "<div>\n",
       "<style scoped>\n",
       "    .dataframe tbody tr th:only-of-type {\n",
       "        vertical-align: middle;\n",
       "    }\n",
       "\n",
       "    .dataframe tbody tr th {\n",
       "        vertical-align: top;\n",
       "    }\n",
       "\n",
       "    .dataframe thead th {\n",
       "        text-align: right;\n",
       "    }\n",
       "</style>\n",
       "<table border=\"1\" class=\"dataframe\">\n",
       "  <thead>\n",
       "    <tr style=\"text-align: right;\">\n",
       "      <th></th>\n",
       "      <th>Date</th>\n",
       "      <th>MeanTemp</th>\n",
       "    </tr>\n",
       "  </thead>\n",
       "  <tbody>\n",
       "    <tr>\n",
       "      <th>0</th>\n",
       "      <td>2006-01-01 12:00:00</td>\n",
       "      <td>17.978607</td>\n",
       "    </tr>\n",
       "    <tr>\n",
       "      <th>1</th>\n",
       "      <td>2006-01-02 12:00:00</td>\n",
       "      <td>17.908112</td>\n",
       "    </tr>\n",
       "    <tr>\n",
       "      <th>2</th>\n",
       "      <td>2006-01-03 12:00:00</td>\n",
       "      <td>17.334320</td>\n",
       "    </tr>\n",
       "    <tr>\n",
       "      <th>3</th>\n",
       "      <td>2006-01-04 12:00:00</td>\n",
       "      <td>18.653046</td>\n",
       "    </tr>\n",
       "    <tr>\n",
       "      <th>4</th>\n",
       "      <td>2006-01-05 12:00:00</td>\n",
       "      <td>17.960724</td>\n",
       "    </tr>\n",
       "  </tbody>\n",
       "</table>\n",
       "</div>"
      ],
      "text/plain": [
       "                  Date   MeanTemp\n",
       "0  2006-01-01 12:00:00  17.978607\n",
       "1  2006-01-02 12:00:00  17.908112\n",
       "2  2006-01-03 12:00:00  17.334320\n",
       "3  2006-01-04 12:00:00  18.653046\n",
       "4  2006-01-05 12:00:00  17.960724"
      ]
     },
     "execution_count": 348,
     "metadata": {},
     "output_type": "execute_result"
    }
   ],
   "source": [
    "df.head()"
   ]
  }
 ],
 "metadata": {
  "colab": {
   "authorship_tag": "ABX9TyNqLygZ97E3bfUvZUrezDM5",
   "collapsed_sections": [],
   "name": "Test-climat.ipynb",
   "provenance": []
  },
  "kernelspec": {
   "display_name": "Python 3",
   "language": "python",
   "name": "python3"
  },
  "language_info": {
   "codemirror_mode": {
    "name": "ipython",
    "version": 3
   },
   "file_extension": ".py",
   "mimetype": "text/x-python",
   "name": "python",
   "nbconvert_exporter": "python",
   "pygments_lexer": "ipython3",
   "version": "3.8.8"
  }
 },
 "nbformat": 4,
 "nbformat_minor": 1
}
